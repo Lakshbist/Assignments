{
 "cells": [
  {
   "cell_type": "markdown",
   "id": "01e72774-a147-4fa9-aca6-49a41f3059b2",
   "metadata": {},
   "source": [
    "1Q.While naming a variable one have follow the following rules -\n"
   ]
  },
  {
   "cell_type": "markdown",
   "id": "cf55c3af-4e5e-4cee-8de0-79a7c1df4596",
   "metadata": {},
   "source": [
    "Solution for 1Q \n",
    "1. The variables name should start with an alphabet or an underscore.\n",
    "#For example "
   ]
  },
  {
   "cell_type": "code",
   "execution_count": 1,
   "id": "dfedbcb4-a060-44a7-8738-d095c375a553",
   "metadata": {},
   "outputs": [],
   "source": [
    "A = 10"
   ]
  },
  {
   "cell_type": "code",
   "execution_count": 2,
   "id": "25d5f37c-c414-4510-b55e-b7ab23cb8f87",
   "metadata": {},
   "outputs": [
    {
     "data": {
      "text/plain": [
       "10"
      ]
     },
     "execution_count": 2,
     "metadata": {},
     "output_type": "execute_result"
    }
   ],
   "source": [
    "A"
   ]
  },
  {
   "cell_type": "code",
   "execution_count": 3,
   "id": "4b3d16c0-78f2-4954-b2a4-dcbf803b9a88",
   "metadata": {},
   "outputs": [],
   "source": [
    "a=26"
   ]
  },
  {
   "cell_type": "code",
   "execution_count": 4,
   "id": "1a0bd895-4e35-446d-bd06-5323bd0d7078",
   "metadata": {},
   "outputs": [
    {
     "data": {
      "text/plain": [
       "26"
      ]
     },
     "execution_count": 4,
     "metadata": {},
     "output_type": "execute_result"
    }
   ],
   "source": [
    "a"
   ]
  },
  {
   "cell_type": "code",
   "execution_count": 5,
   "id": "2fcbe216-2531-495d-b9b2-64ebac3fc861",
   "metadata": {},
   "outputs": [
    {
     "name": "stdout",
     "output_type": "stream",
     "text": [
      "26\n",
      "10\n"
     ]
    }
   ],
   "source": [
    "print(a)\n",
    "print(A)"
   ]
  },
  {
   "cell_type": "markdown",
   "id": "67032b35-c737-43e2-8153-694b63ee47e6",
   "metadata": {},
   "source": [
    "2. A variable name should not start with a number , it will result in an syntax error"
   ]
  },
  {
   "cell_type": "code",
   "execution_count": 6,
   "id": "1efb4ba9-6ead-4f71-9813-febffb8d6c60",
   "metadata": {},
   "outputs": [
    {
     "ename": "SyntaxError",
     "evalue": "invalid decimal literal (2547310062.py, line 1)",
     "output_type": "error",
     "traceback": [
      "\u001b[0;36m  Cell \u001b[0;32mIn[6], line 1\u001b[0;36m\u001b[0m\n\u001b[0;31m    2A = 15\u001b[0m\n\u001b[0m    ^\u001b[0m\n\u001b[0;31mSyntaxError\u001b[0m\u001b[0;31m:\u001b[0m invalid decimal literal\n"
     ]
    }
   ],
   "source": [
    "2A = 15"
   ]
  },
  {
   "cell_type": "markdown",
   "id": "75e93996-017c-4d65-b788-caf8b6efde1a",
   "metadata": {},
   "source": [
    "2. No white spaces are allowed while naming a variable "
   ]
  },
  {
   "cell_type": "code",
   "execution_count": 7,
   "id": "c435b972-1cce-4e40-9bcf-bd35a3c08aab",
   "metadata": {},
   "outputs": [
    {
     "ename": "SyntaxError",
     "evalue": "invalid syntax (1450469735.py, line 1)",
     "output_type": "error",
     "traceback": [
      "\u001b[0;36m  Cell \u001b[0;32mIn[7], line 1\u001b[0;36m\u001b[0m\n\u001b[0;31m    My name = \"Lakshmi\"\u001b[0m\n\u001b[0m       ^\u001b[0m\n\u001b[0;31mSyntaxError\u001b[0m\u001b[0;31m:\u001b[0m invalid syntax\n"
     ]
    }
   ],
   "source": [
    "My name = \"Lakshmi\""
   ]
  },
  {
   "cell_type": "markdown",
   "id": "8ab2d68e-5cbd-425f-b320-406b8b4756f4",
   "metadata": {},
   "source": [
    "3. A Variable name can start with an under score "
   ]
  },
  {
   "cell_type": "code",
   "execution_count": 8,
   "id": "365a8a53-d5d8-4a24-916e-eecb73d2ae48",
   "metadata": {},
   "outputs": [],
   "source": [
    "_My_name = \"Lakshmi\""
   ]
  },
  {
   "cell_type": "code",
   "execution_count": 9,
   "id": "cfa1551f-5c68-4173-903e-1351d29dd0b2",
   "metadata": {},
   "outputs": [
    {
     "name": "stdout",
     "output_type": "stream",
     "text": [
      "Lakshmi\n"
     ]
    }
   ],
   "source": [
    "print(_My_name)"
   ]
  },
  {
   "cell_type": "markdown",
   "id": "da5cddc1-74b9-4dad-ab9a-ba46f106d5ef",
   "metadata": {},
   "source": [
    "4. Other than under score no other special characters are allowed."
   ]
  },
  {
   "cell_type": "code",
   "execution_count": 11,
   "id": "d945e3ef-4aa6-44bd-952e-00d417c4f6f7",
   "metadata": {},
   "outputs": [
    {
     "ename": "SyntaxError",
     "evalue": "invalid syntax (1714076588.py, line 1)",
     "output_type": "error",
     "traceback": [
      "\u001b[0;36m  Cell \u001b[0;32mIn[11], line 1\u001b[0;36m\u001b[0m\n\u001b[0;31m    $a=10\u001b[0m\n\u001b[0m    ^\u001b[0m\n\u001b[0;31mSyntaxError\u001b[0m\u001b[0;31m:\u001b[0m invalid syntax\n"
     ]
    }
   ],
   "source": [
    "$a=10\n"
   ]
  },
  {
   "cell_type": "markdown",
   "id": "1c12a63a-1ee7-45d5-98aa-2cd50170afaf",
   "metadata": {},
   "source": [
    "2Q . If we declare a restricted keyword as a variable name then it would result in syntax error , because the keyword already have some fixed value stored in it and one cannot reassign any further values.\n",
    "For example - "
   ]
  },
  {
   "cell_type": "code",
   "execution_count": 17,
   "id": "c4a6ffa9-0df4-442c-ab26-0961ebee90aa",
   "metadata": {},
   "outputs": [
    {
     "ename": "SyntaxError",
     "evalue": "cannot assign to True (2227483689.py, line 1)",
     "output_type": "error",
     "traceback": [
      "\u001b[0;36m  Cell \u001b[0;32mIn[17], line 1\u001b[0;36m\u001b[0m\n\u001b[0;31m    True = 10\u001b[0m\n\u001b[0m    ^\u001b[0m\n\u001b[0;31mSyntaxError\u001b[0m\u001b[0;31m:\u001b[0m cannot assign to True\n"
     ]
    }
   ],
   "source": [
    "True = 10"
   ]
  },
  {
   "cell_type": "markdown",
   "id": "31f0752e-e549-4c78-8984-d09a3bbe06ca",
   "metadata": {},
   "source": [
    "3Q.Yes one can declare string as variable name , as string is a set \n",
    "of characters so the name of a variable can be a string \n",
    "for example - "
   ]
  },
  {
   "cell_type": "code",
   "execution_count": 18,
   "id": "c099ed6f-74f6-4ef1-8aa1-9672e18289ae",
   "metadata": {},
   "outputs": [],
   "source": [
    "name = \"Lakshmi\""
   ]
  },
  {
   "cell_type": "code",
   "execution_count": 19,
   "id": "a5f28844-b965-4745-b581-71812f349567",
   "metadata": {},
   "outputs": [
    {
     "data": {
      "text/plain": [
       "'Lakshmi'"
      ]
     },
     "execution_count": 19,
     "metadata": {},
     "output_type": "execute_result"
    }
   ],
   "source": [
    "name"
   ]
  },
  {
   "cell_type": "markdown",
   "id": "10ec8ec9-f7a0-483b-b50e-cb1010cb90c2",
   "metadata": {},
   "source": [
    "4Q. Yes it is possible for us to decalre _ as variable name \n",
    "for example - "
   ]
  },
  {
   "cell_type": "code",
   "execution_count": 21,
   "id": "d449a9e0-9099-46ff-a353-2c88e12aad70",
   "metadata": {},
   "outputs": [],
   "source": [
    "_= 20 "
   ]
  },
  {
   "cell_type": "code",
   "execution_count": 22,
   "id": "0367a087-8258-40b1-8ce8-0ac338dae287",
   "metadata": {},
   "outputs": [
    {
     "data": {
      "text/plain": [
       "20"
      ]
     },
     "execution_count": 22,
     "metadata": {},
     "output_type": "execute_result"
    }
   ],
   "source": [
    "_\n"
   ]
  },
  {
   "cell_type": "markdown",
   "id": "d34e44af-258f-4567-a9ee-e89d362115ff",
   "metadata": {},
   "source": [
    "5Q . The variables in python are dynamic , because there is no necessity to declare the type of variable when declaring them.\n",
    "For example - "
   ]
  },
  {
   "cell_type": "code",
   "execution_count": 3,
   "id": "fafba333-72c9-415d-ad90-217b39706f9d",
   "metadata": {},
   "outputs": [],
   "source": [
    "c = 10"
   ]
  },
  {
   "cell_type": "code",
   "execution_count": 4,
   "id": "4ee8c189-2ae7-49a7-a186-5cc6fb74cc07",
   "metadata": {},
   "outputs": [
    {
     "data": {
      "text/plain": [
       "10"
      ]
     },
     "execution_count": 4,
     "metadata": {},
     "output_type": "execute_result"
    }
   ],
   "source": [
    "c"
   ]
  },
  {
   "cell_type": "code",
   "execution_count": 6,
   "id": "87a002fb-f0b8-4dfe-87f6-8ba89d6e9109",
   "metadata": {},
   "outputs": [
    {
     "data": {
      "text/plain": [
       "int"
      ]
     },
     "execution_count": 6,
     "metadata": {},
     "output_type": "execute_result"
    }
   ],
   "source": [
    "type(c)"
   ]
  },
  {
   "cell_type": "markdown",
   "id": "a510aedd-e71c-43f3-b0a7-a621d2cfe2ce",
   "metadata": {},
   "source": [
    "In the above example even though the type of data is not declared while \n",
    "decalring the variable , python has automatically analysed the type of data .\n",
    "this makes the variables in python dynamic.\n",
    "\n",
    "Below are some more examples to illustrate the dynamic nature of variables in python - "
   ]
  },
  {
   "cell_type": "code",
   "execution_count": 8,
   "id": "932d38d1-edb7-4b28-aa3b-813323a4e8f1",
   "metadata": {},
   "outputs": [],
   "source": [
    "d = 10.56"
   ]
  },
  {
   "cell_type": "code",
   "execution_count": 9,
   "id": "09d80149-4fe2-4f26-81b6-5dddc52ac140",
   "metadata": {},
   "outputs": [
    {
     "data": {
      "text/plain": [
       "float"
      ]
     },
     "execution_count": 9,
     "metadata": {},
     "output_type": "execute_result"
    }
   ],
   "source": [
    "type(d)"
   ]
  },
  {
   "cell_type": "code",
   "execution_count": 10,
   "id": "d7bf0384-f5e0-40fd-996f-45fade514e90",
   "metadata": {},
   "outputs": [],
   "source": [
    "name = \"Lakshmi\""
   ]
  },
  {
   "cell_type": "code",
   "execution_count": 11,
   "id": "eba1c506-887b-4cc7-b425-915def04e0e5",
   "metadata": {},
   "outputs": [
    {
     "data": {
      "text/plain": [
       "str"
      ]
     },
     "execution_count": 11,
     "metadata": {},
     "output_type": "execute_result"
    }
   ],
   "source": [
    "type(name)"
   ]
  },
  {
   "cell_type": "code",
   "execution_count": 12,
   "id": "a17e883e-d282-4809-a52c-a26111bfa3cd",
   "metadata": {},
   "outputs": [
    {
     "data": {
      "text/plain": [
       "'Lakshmi'"
      ]
     },
     "execution_count": 12,
     "metadata": {},
     "output_type": "execute_result"
    }
   ],
   "source": [
    "name\n"
   ]
  },
  {
   "cell_type": "code",
   "execution_count": null,
   "id": "0ea4a04b-497e-4c04-bf81-2c2c1e9652e7",
   "metadata": {},
   "outputs": [],
   "source": []
  }
 ],
 "metadata": {
  "kernelspec": {
   "display_name": "Python 3 (ipykernel)",
   "language": "python",
   "name": "python3"
  },
  "language_info": {
   "codemirror_mode": {
    "name": "ipython",
    "version": 3
   },
   "file_extension": ".py",
   "mimetype": "text/x-python",
   "name": "python",
   "nbconvert_exporter": "python",
   "pygments_lexer": "ipython3",
   "version": "3.10.8"
  }
 },
 "nbformat": 4,
 "nbformat_minor": 5
}
